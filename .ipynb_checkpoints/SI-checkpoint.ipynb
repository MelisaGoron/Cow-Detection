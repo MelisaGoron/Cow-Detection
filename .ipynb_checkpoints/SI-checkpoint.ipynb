{
 "cells": [
  {
   "cell_type": "code",
   "execution_count": null,
   "id": "2c9a2c9c",
   "metadata": {},
   "outputs": [],
   "source": [
    "#!pip install torch==1.8.1+cu111 torchvision==0.9.1+cu111 torchaudio===0.8.1 -f https://download.pytorch.org/whl/lts/1.8/torch_lts.html"
   ]
  },
  {
   "cell_type": "code",
   "execution_count": 1,
   "id": "7c7b6274",
   "metadata": {},
   "outputs": [],
   "source": [
    "import torch\n",
    "from matplotlib import pyplot as plt\n",
    "import numpy as np\n",
    "import cv2"
   ]
  },
  {
   "cell_type": "code",
   "execution_count": 3,
   "id": "3f978965",
   "metadata": {},
   "outputs": [
    {
     "name": "stderr",
     "output_type": "stream",
     "text": [
      "Cloning into 'yolov5'...\n"
     ]
    }
   ],
   "source": [
    "#!git clone https://github.com/ultralytics/yolov5"
   ]
  },
  {
   "cell_type": "code",
   "execution_count": 4,
   "id": "ab06f7ab",
   "metadata": {},
   "outputs": [
    {
     "name": "stdout",
     "output_type": "stream",
     "text": [
      "Requirement already satisfied: gitpython in c:\\users\\goron\\anaconda3\\lib\\site-packages (from -r requirements.txt (line 5)) (3.1.29)\n",
      "Requirement already satisfied: ipython in c:\\users\\goron\\anaconda3\\lib\\site-packages (from -r requirements.txt (line 6)) (7.31.1)\n",
      "Requirement already satisfied: matplotlib>=3.2.2 in c:\\users\\goron\\anaconda3\\lib\\site-packages (from -r requirements.txt (line 7)) (3.5.2)\n",
      "Requirement already satisfied: numpy>=1.18.5 in c:\\users\\goron\\anaconda3\\lib\\site-packages (from -r requirements.txt (line 8)) (1.21.5)\n",
      "Requirement already satisfied: opencv-python>=4.1.1 in c:\\users\\goron\\anaconda3\\lib\\site-packages (from -r requirements.txt (line 9)) (4.6.0.66)\n",
      "Requirement already satisfied: Pillow>=7.1.2 in c:\\users\\goron\\anaconda3\\lib\\site-packages (from -r requirements.txt (line 10)) (9.2.0)\n",
      "Requirement already satisfied: psutil in c:\\users\\goron\\anaconda3\\lib\\site-packages (from -r requirements.txt (line 11)) (5.9.0)\n",
      "Requirement already satisfied: PyYAML>=5.3.1 in c:\\users\\goron\\anaconda3\\lib\\site-packages (from -r requirements.txt (line 12)) (6.0)\n",
      "Requirement already satisfied: requests>=2.23.0 in c:\\users\\goron\\anaconda3\\lib\\site-packages (from -r requirements.txt (line 13)) (2.28.1)\n",
      "Requirement already satisfied: scipy>=1.4.1 in c:\\users\\goron\\anaconda3\\lib\\site-packages (from -r requirements.txt (line 14)) (1.9.1)\n",
      "Requirement already satisfied: thop>=0.1.1 in c:\\users\\goron\\anaconda3\\lib\\site-packages (from -r requirements.txt (line 15)) (0.1.1.post2209072238)\n",
      "Requirement already satisfied: torch>=1.7.0 in c:\\users\\goron\\anaconda3\\lib\\site-packages (from -r requirements.txt (line 16)) (1.13.0)\n",
      "Requirement already satisfied: torchvision>=0.8.1 in c:\\users\\goron\\anaconda3\\lib\\site-packages (from -r requirements.txt (line 17)) (0.14.0)\n",
      "Requirement already satisfied: tqdm>=4.64.0 in c:\\users\\goron\\anaconda3\\lib\\site-packages (from -r requirements.txt (line 18)) (4.64.1)\n",
      "Requirement already satisfied: tensorboard>=2.4.1 in c:\\users\\goron\\anaconda3\\lib\\site-packages (from -r requirements.txt (line 22)) (2.11.0)\n",
      "Requirement already satisfied: pandas>=1.1.4 in c:\\users\\goron\\anaconda3\\lib\\site-packages (from -r requirements.txt (line 27)) (1.4.4)\n",
      "Requirement already satisfied: seaborn>=0.11.0 in c:\\users\\goron\\anaconda3\\lib\\site-packages (from -r requirements.txt (line 28)) (0.11.2)\n",
      "Requirement already satisfied: gitdb<5,>=4.0.1 in c:\\users\\goron\\anaconda3\\lib\\site-packages (from gitpython->-r requirements.txt (line 5)) (4.0.10)\n",
      "Requirement already satisfied: pickleshare in c:\\users\\goron\\anaconda3\\lib\\site-packages (from ipython->-r requirements.txt (line 6)) (0.7.5)\n",
      "Requirement already satisfied: backcall in c:\\users\\goron\\anaconda3\\lib\\site-packages (from ipython->-r requirements.txt (line 6)) (0.2.0)\n",
      "Requirement already satisfied: setuptools>=18.5 in c:\\users\\goron\\anaconda3\\lib\\site-packages (from ipython->-r requirements.txt (line 6)) (63.4.1)\n",
      "Requirement already satisfied: pygments in c:\\users\\goron\\anaconda3\\lib\\site-packages (from ipython->-r requirements.txt (line 6)) (2.11.2)\n",
      "Requirement already satisfied: colorama in c:\\users\\goron\\anaconda3\\lib\\site-packages (from ipython->-r requirements.txt (line 6)) (0.4.5)\n",
      "Requirement already satisfied: traitlets>=4.2 in c:\\users\\goron\\anaconda3\\lib\\site-packages (from ipython->-r requirements.txt (line 6)) (5.1.1)\n",
      "Requirement already satisfied: decorator in c:\\users\\goron\\anaconda3\\lib\\site-packages (from ipython->-r requirements.txt (line 6)) (5.1.1)\n",
      "Requirement already satisfied: matplotlib-inline in c:\\users\\goron\\anaconda3\\lib\\site-packages (from ipython->-r requirements.txt (line 6)) (0.1.6)\n",
      "Requirement already satisfied: jedi>=0.16 in c:\\users\\goron\\anaconda3\\lib\\site-packages (from ipython->-r requirements.txt (line 6)) (0.18.1)\n",
      "Requirement already satisfied: prompt-toolkit!=3.0.0,!=3.0.1,<3.1.0,>=2.0.0 in c:\\users\\goron\\anaconda3\\lib\\site-packages (from ipython->-r requirements.txt (line 6)) (3.0.20)\n",
      "Requirement already satisfied: python-dateutil>=2.7 in c:\\users\\goron\\anaconda3\\lib\\site-packages (from matplotlib>=3.2.2->-r requirements.txt (line 7)) (2.8.2)\n",
      "Requirement already satisfied: kiwisolver>=1.0.1 in c:\\users\\goron\\anaconda3\\lib\\site-packages (from matplotlib>=3.2.2->-r requirements.txt (line 7)) (1.4.2)\n",
      "Requirement already satisfied: fonttools>=4.22.0 in c:\\users\\goron\\anaconda3\\lib\\site-packages (from matplotlib>=3.2.2->-r requirements.txt (line 7)) (4.25.0)\n",
      "Requirement already satisfied: pyparsing>=2.2.1 in c:\\users\\goron\\anaconda3\\lib\\site-packages (from matplotlib>=3.2.2->-r requirements.txt (line 7)) (3.0.9)\n",
      "Requirement already satisfied: packaging>=20.0 in c:\\users\\goron\\anaconda3\\lib\\site-packages (from matplotlib>=3.2.2->-r requirements.txt (line 7)) (21.3)\n",
      "Requirement already satisfied: cycler>=0.10 in c:\\users\\goron\\anaconda3\\lib\\site-packages (from matplotlib>=3.2.2->-r requirements.txt (line 7)) (0.11.0)\n",
      "Requirement already satisfied: urllib3<1.27,>=1.21.1 in c:\\users\\goron\\anaconda3\\lib\\site-packages (from requests>=2.23.0->-r requirements.txt (line 13)) (1.26.11)\n",
      "Requirement already satisfied: idna<4,>=2.5 in c:\\users\\goron\\anaconda3\\lib\\site-packages (from requests>=2.23.0->-r requirements.txt (line 13)) (3.3)\n",
      "Requirement already satisfied: certifi>=2017.4.17 in c:\\users\\goron\\anaconda3\\lib\\site-packages (from requests>=2.23.0->-r requirements.txt (line 13)) (2022.9.14)\n",
      "Requirement already satisfied: charset-normalizer<3,>=2 in c:\\users\\goron\\anaconda3\\lib\\site-packages (from requests>=2.23.0->-r requirements.txt (line 13)) (2.0.4)\n",
      "Requirement already satisfied: typing-extensions in c:\\users\\goron\\anaconda3\\lib\\site-packages (from torch>=1.7.0->-r requirements.txt (line 16)) (4.3.0)\n",
      "Requirement already satisfied: tensorboard-plugin-wit>=1.6.0 in c:\\users\\goron\\anaconda3\\lib\\site-packages (from tensorboard>=2.4.1->-r requirements.txt (line 22)) (1.8.1)\n",
      "Requirement already satisfied: grpcio>=1.24.3 in c:\\users\\goron\\anaconda3\\lib\\site-packages (from tensorboard>=2.4.1->-r requirements.txt (line 22)) (1.51.1)\n",
      "Requirement already satisfied: markdown>=2.6.8 in c:\\users\\goron\\anaconda3\\lib\\site-packages (from tensorboard>=2.4.1->-r requirements.txt (line 22)) (3.3.4)\n",
      "Requirement already satisfied: tensorboard-data-server<0.7.0,>=0.6.0 in c:\\users\\goron\\anaconda3\\lib\\site-packages (from tensorboard>=2.4.1->-r requirements.txt (line 22)) (0.6.1)\n",
      "Requirement already satisfied: google-auth-oauthlib<0.5,>=0.4.1 in c:\\users\\goron\\anaconda3\\lib\\site-packages (from tensorboard>=2.4.1->-r requirements.txt (line 22)) (0.4.6)\n",
      "Requirement already satisfied: protobuf<4,>=3.9.2 in c:\\users\\goron\\anaconda3\\lib\\site-packages (from tensorboard>=2.4.1->-r requirements.txt (line 22)) (3.20.3)\n",
      "Requirement already satisfied: google-auth<3,>=1.6.3 in c:\\users\\goron\\anaconda3\\lib\\site-packages (from tensorboard>=2.4.1->-r requirements.txt (line 22)) (2.15.0)\n",
      "Requirement already satisfied: wheel>=0.26 in c:\\users\\goron\\anaconda3\\lib\\site-packages (from tensorboard>=2.4.1->-r requirements.txt (line 22)) (0.37.1)\n",
      "Requirement already satisfied: absl-py>=0.4 in c:\\users\\goron\\anaconda3\\lib\\site-packages (from tensorboard>=2.4.1->-r requirements.txt (line 22)) (1.3.0)\n",
      "Requirement already satisfied: werkzeug>=1.0.1 in c:\\users\\goron\\anaconda3\\lib\\site-packages (from tensorboard>=2.4.1->-r requirements.txt (line 22)) (2.0.3)\n",
      "Requirement already satisfied: pytz>=2020.1 in c:\\users\\goron\\anaconda3\\lib\\site-packages (from pandas>=1.1.4->-r requirements.txt (line 27)) (2022.1)\n",
      "Requirement already satisfied: smmap<6,>=3.0.1 in c:\\users\\goron\\anaconda3\\lib\\site-packages (from gitdb<5,>=4.0.1->gitpython->-r requirements.txt (line 5)) (5.0.0)\n",
      "Requirement already satisfied: cachetools<6.0,>=2.0.0 in c:\\users\\goron\\anaconda3\\lib\\site-packages (from google-auth<3,>=1.6.3->tensorboard>=2.4.1->-r requirements.txt (line 22)) (5.2.0)\n",
      "Requirement already satisfied: rsa<5,>=3.1.4 in c:\\users\\goron\\anaconda3\\lib\\site-packages (from google-auth<3,>=1.6.3->tensorboard>=2.4.1->-r requirements.txt (line 22)) (4.9)\n",
      "Requirement already satisfied: pyasn1-modules>=0.2.1 in c:\\users\\goron\\anaconda3\\lib\\site-packages (from google-auth<3,>=1.6.3->tensorboard>=2.4.1->-r requirements.txt (line 22)) (0.2.8)\n",
      "Requirement already satisfied: six>=1.9.0 in c:\\users\\goron\\anaconda3\\lib\\site-packages (from google-auth<3,>=1.6.3->tensorboard>=2.4.1->-r requirements.txt (line 22)) (1.16.0)\n",
      "Requirement already satisfied: requests-oauthlib>=0.7.0 in c:\\users\\goron\\anaconda3\\lib\\site-packages (from google-auth-oauthlib<0.5,>=0.4.1->tensorboard>=2.4.1->-r requirements.txt (line 22)) (1.3.1)\n",
      "Requirement already satisfied: parso<0.9.0,>=0.8.0 in c:\\users\\goron\\anaconda3\\lib\\site-packages (from jedi>=0.16->ipython->-r requirements.txt (line 6)) (0.8.3)\n",
      "Requirement already satisfied: wcwidth in c:\\users\\goron\\anaconda3\\lib\\site-packages (from prompt-toolkit!=3.0.0,!=3.0.1,<3.1.0,>=2.0.0->ipython->-r requirements.txt (line 6)) (0.2.5)\n",
      "Requirement already satisfied: pyasn1<0.5.0,>=0.4.6 in c:\\users\\goron\\anaconda3\\lib\\site-packages (from pyasn1-modules>=0.2.1->google-auth<3,>=1.6.3->tensorboard>=2.4.1->-r requirements.txt (line 22)) (0.4.8)\n",
      "Requirement already satisfied: oauthlib>=3.0.0 in c:\\users\\goron\\anaconda3\\lib\\site-packages (from requests-oauthlib>=0.7.0->google-auth-oauthlib<0.5,>=0.4.1->tensorboard>=2.4.1->-r requirements.txt (line 22)) (3.2.2)\n"
     ]
    },
    {
     "name": "stderr",
     "output_type": "stream",
     "text": [
      "WARNING: Ignore distutils configs in setup.cfg due to encoding errors.\n",
      "WARNING: Ignore distutils configs in setup.cfg due to encoding errors.\n"
     ]
    }
   ],
   "source": [
    "#!cd yolov5 & pip install -r requirements.txt"
   ]
  },
  {
   "cell_type": "code",
   "execution_count": 6,
   "id": "21647607",
   "metadata": {},
   "outputs": [
    {
     "name": "stderr",
     "output_type": "stream",
     "text": [
      "Using cache found in C:\\Users\\goron/.cache\\torch\\hub\\ultralytics_yolov5_master\n",
      "YOLOv5  2022-12-7 Python-3.9.13 torch-1.13.0+cpu CPU\n",
      "\n",
      "Downloading https://github.com/ultralytics/yolov5/releases/download/v7.0/yolov5s.pt to yolov5s.pt...\n"
     ]
    },
    {
     "data": {
      "application/vnd.jupyter.widget-view+json": {
       "model_id": "d1573ca331be43d3a27658210834a53e",
       "version_major": 2,
       "version_minor": 0
      },
      "text/plain": [
       "  0%|          | 0.00/14.1M [00:00<?, ?B/s]"
      ]
     },
     "metadata": {},
     "output_type": "display_data"
    },
    {
     "name": "stderr",
     "output_type": "stream",
     "text": [
      "\n",
      "Fusing layers... \n",
      "YOLOv5s summary: 213 layers, 7225885 parameters, 0 gradients\n",
      "Adding AutoShape... \n"
     ]
    }
   ],
   "source": [
    "#model = torch.hub.load('ultralytics/yolov5', 'yolov5s')"
   ]
  },
  {
   "cell_type": "code",
   "execution_count": 7,
   "id": "1c1504ea",
   "metadata": {},
   "outputs": [],
   "source": [
    "#create data/images"
   ]
  },
  {
   "cell_type": "code",
   "execution_count": 16,
   "id": "1a8febb6",
   "metadata": {},
   "outputs": [
    {
     "name": "stderr",
     "output_type": "stream",
     "text": [
      "Cloning into 'labelImg'...\n"
     ]
    }
   ],
   "source": [
    "#!git clone https://github.com/tzutalin/labelImg"
   ]
  },
  {
   "cell_type": "code",
   "execution_count": 17,
   "id": "afb0c457",
   "metadata": {
    "scrolled": true
   },
   "outputs": [
    {
     "name": "stdout",
     "output_type": "stream",
     "text": [
      "Requirement already satisfied: pyqt5 in c:\\users\\goron\\anaconda3\\lib\\site-packages (5.15.7)\n",
      "Requirement already satisfied: lxml in c:\\users\\goron\\anaconda3\\lib\\site-packages (4.9.2)\n",
      "Requirement already satisfied: PyQt5-sip<13,>=12.11 in c:\\users\\goron\\anaconda3\\lib\\site-packages (from pyqt5) (12.11.0)\n",
      "Requirement already satisfied: PyQt5-Qt5>=5.15.0 in c:\\users\\goron\\anaconda3\\lib\\site-packages (from pyqt5) (5.15.2)\n"
     ]
    }
   ],
   "source": [
    "#!pip install pyqt5 lxml --upgrade\n",
    "#!cd labelImg && pyrcc5 -o libs/resources.py resources.qrc\n"
   ]
  },
  {
   "cell_type": "code",
   "execution_count": null,
   "id": "f7bb2963",
   "metadata": {},
   "outputs": [],
   "source": [
    "#in data create labels\n",
    "#cd labelImg\n",
    "#python labelImg.py - youtube"
   ]
  },
  {
   "cell_type": "code",
   "execution_count": 9,
   "id": "0e9dc448",
   "metadata": {},
   "outputs": [],
   "source": [
    "os.environ[\"KMP_DUPLICATE_LIB_OK\"]=\"TRUE\""
   ]
  },
  {
   "cell_type": "code",
   "execution_count": null,
   "id": "9eb24a5f",
   "metadata": {},
   "outputs": [],
   "source": [
    "#in yolov5 create dataset.yaml - yt"
   ]
  },
  {
   "cell_type": "code",
   "execution_count": 20,
   "id": "303094ad",
   "metadata": {},
   "outputs": [
    {
     "name": "stdout",
     "output_type": "stream",
     "text": [
      "^C\n"
     ]
    }
   ],
   "source": [
    "!cd yolov5 && python train.py --img 320 --batch 16 --epochs 100 --data dataset.yaml --weights yolov5s.pt --workers 2\n"
   ]
  },
  {
   "cell_type": "code",
   "execution_count": null,
   "id": "b35bffba",
   "metadata": {},
   "outputs": [],
   "source": [
    "model = torch.hub.load('ultralytics/yolov5', 'custom', path='yolov5/runs/train/exp3/weights/last.pt', force_reload=True)"
   ]
  },
  {
   "cell_type": "code",
   "execution_count": null,
   "id": "33c37179",
   "metadata": {},
   "outputs": [],
   "source": [
    "img = os.path.join('data', 'images', 'cow(6).jpeg')"
   ]
  },
  {
   "cell_type": "code",
   "execution_count": null,
   "id": "750ed508",
   "metadata": {},
   "outputs": [],
   "source": [
    "results = model(img)"
   ]
  },
  {
   "cell_type": "code",
   "execution_count": null,
   "id": "762cae99",
   "metadata": {},
   "outputs": [],
   "source": [
    "results.print()"
   ]
  },
  {
   "cell_type": "code",
   "execution_count": null,
   "id": "79a41542",
   "metadata": {},
   "outputs": [],
   "source": [
    "%matplotlib inline \n",
    "plt.imshow(np.squeeze(results.render()))\n",
    "plt.show()"
   ]
  }
 ],
 "metadata": {
  "kernelspec": {
   "display_name": "Python 3 (ipykernel)",
   "language": "python",
   "name": "python3"
  },
  "language_info": {
   "codemirror_mode": {
    "name": "ipython",
    "version": 3
   },
   "file_extension": ".py",
   "mimetype": "text/x-python",
   "name": "python",
   "nbconvert_exporter": "python",
   "pygments_lexer": "ipython3",
   "version": "3.9.13"
  }
 },
 "nbformat": 4,
 "nbformat_minor": 5
}
