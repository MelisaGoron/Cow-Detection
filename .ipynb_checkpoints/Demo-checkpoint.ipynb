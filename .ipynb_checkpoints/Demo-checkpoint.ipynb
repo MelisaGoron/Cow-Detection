{
 "cells": [
  {
   "cell_type": "code",
   "execution_count": 1,
   "id": "7d6aabe2",
   "metadata": {},
   "outputs": [],
   "source": [
    "import tkinter as tk\n",
    "from tkinter import filedialog, RAISED, W, CENTER, NSEW, E, LEFT, TOP, RIGHT\n",
    "import torch\n",
    "import cv2\n",
    "import numpy as np"
   ]
  },
  {
   "cell_type": "code",
   "execution_count": 2,
   "id": "c3ef75f0",
   "metadata": {},
   "outputs": [],
   "source": [
    "def run_model(filepath, camera):\n",
    "    model = torch.hub.load('ultralytics/yolov5', 'custom', path='best.pt', force_reload=True)\n",
    "    if not camera:\n",
    "        cap = cv2.VideoCapture(filepath)\n",
    "    else:\n",
    "        cap = cv2.VideoCapture(0)\n",
    "    while cap.isOpened():\n",
    "        ret, frame = cap.read()\n",
    "\n",
    "        # Make detections\n",
    "        results = model(frame)\n",
    "\n",
    "        cv2.imshow('YOLO', np.squeeze(results.render()))\n",
    "\n",
    "        if cv2.waitKey(10) & 0xFF == ord('q'):\n",
    "            break\n",
    "    cap.release()\n",
    "    cv2.destroyAllWindows()"
   ]
  },
  {
   "cell_type": "code",
   "execution_count": 3,
   "id": "5869ed27",
   "metadata": {},
   "outputs": [],
   "source": [
    "def upload_action(event=None):\n",
    "    filename = filedialog.askopenfilename(filetypes=[('Video Files', '*mp4')])\n",
    "    run_model(filename, False)"
   ]
  },
  {
   "cell_type": "code",
   "execution_count": 4,
   "id": "ef867128",
   "metadata": {},
   "outputs": [],
   "source": [
    "def camera_action():\n",
    "    run_model(\"\", True)"
   ]
  },
  {
   "cell_type": "code",
   "execution_count": 5,
   "id": "598d8315",
   "metadata": {},
   "outputs": [
    {
     "name": "stderr",
     "output_type": "stream",
     "text": [
      "Downloading: \"https://github.com/ultralytics/yolov5/zipball/master\" to C:\\Users\\goron/.cache\\torch\\hub\\master.zip\n",
      "YOLOv5  2023-2-21 Python-3.9.13 torch-1.13.0+cpu CPU\n",
      "\n",
      "Exception in Tkinter callback\n",
      "Traceback (most recent call last):\n",
      "  File \"C:\\Users\\goron/.cache\\torch\\hub\\ultralytics_yolov5_master\\hubconf.py\", line 49, in _create\n",
      "    model = DetectMultiBackend(path, device=device, fuse=autoshape)  # detection model\n",
      "  File \"C:\\Users\\goron/.cache\\torch\\hub\\ultralytics_yolov5_master\\models\\common.py\", line 345, in __init__\n",
      "    model = attempt_load(weights if isinstance(weights, list) else w, device=device, inplace=True, fuse=fuse)\n",
      "  File \"C:\\Users\\goron/.cache\\torch\\hub\\ultralytics_yolov5_master\\models\\experimental.py\", line 79, in attempt_load\n",
      "    ckpt = torch.load(attempt_download(w), map_location='cpu')  # load\n",
      "  File \"C:\\Users\\goron\\anaconda3\\lib\\site-packages\\torch\\serialization.py\", line 771, in load\n",
      "    with _open_file_like(f, 'rb') as opened_file:\n",
      "  File \"C:\\Users\\goron\\anaconda3\\lib\\site-packages\\torch\\serialization.py\", line 270, in _open_file_like\n",
      "    return _open_file(name_or_buffer, mode)\n",
      "  File \"C:\\Users\\goron\\anaconda3\\lib\\site-packages\\torch\\serialization.py\", line 251, in __init__\n",
      "    super(_open_file, self).__init__(open(name, mode))\n",
      "FileNotFoundError: [Errno 2] No such file or directory: 'best.pt'\n",
      "\n",
      "During handling of the above exception, another exception occurred:\n",
      "\n",
      "Traceback (most recent call last):\n",
      "  File \"C:\\Users\\goron/.cache\\torch\\hub\\ultralytics_yolov5_master\\hubconf.py\", line 60, in _create\n",
      "    model = attempt_load(path, device=device, fuse=False)  # arbitrary model\n",
      "  File \"C:\\Users\\goron/.cache\\torch\\hub\\ultralytics_yolov5_master\\models\\experimental.py\", line 79, in attempt_load\n",
      "    ckpt = torch.load(attempt_download(w), map_location='cpu')  # load\n",
      "  File \"C:\\Users\\goron\\anaconda3\\lib\\site-packages\\torch\\serialization.py\", line 771, in load\n",
      "    with _open_file_like(f, 'rb') as opened_file:\n",
      "  File \"C:\\Users\\goron\\anaconda3\\lib\\site-packages\\torch\\serialization.py\", line 270, in _open_file_like\n",
      "    return _open_file(name_or_buffer, mode)\n",
      "  File \"C:\\Users\\goron\\anaconda3\\lib\\site-packages\\torch\\serialization.py\", line 251, in __init__\n",
      "    super(_open_file, self).__init__(open(name, mode))\n",
      "FileNotFoundError: [Errno 2] No such file or directory: 'best.pt'\n",
      "\n",
      "The above exception was the direct cause of the following exception:\n",
      "\n",
      "Traceback (most recent call last):\n",
      "  File \"C:\\Users\\goron\\anaconda3\\lib\\tkinter\\__init__.py\", line 1892, in __call__\n",
      "    return self.func(*args)\n",
      "  File \"C:\\Users\\goron\\AppData\\Local\\Temp\\ipykernel_16012\\1555418098.py\", line 2, in camera_action\n",
      "    run_model(\"\", True)\n",
      "  File \"C:\\Users\\goron\\AppData\\Local\\Temp\\ipykernel_16012\\3579862513.py\", line 2, in run_model\n",
      "    model = torch.hub.load('ultralytics/yolov5', 'custom', path='best.pt', force_reload=True)\n",
      "  File \"C:\\Users\\goron\\anaconda3\\lib\\site-packages\\torch\\hub.py\", line 542, in load\n",
      "    model = _load_local(repo_or_dir, model, *args, **kwargs)\n",
      "  File \"C:\\Users\\goron\\anaconda3\\lib\\site-packages\\torch\\hub.py\", line 572, in _load_local\n",
      "    model = entry(*args, **kwargs)\n",
      "  File \"C:\\Users\\goron/.cache\\torch\\hub\\ultralytics_yolov5_master\\hubconf.py\", line 83, in custom\n",
      "    return _create(path, autoshape=autoshape, verbose=_verbose, device=device)\n",
      "  File \"C:\\Users\\goron/.cache\\torch\\hub\\ultralytics_yolov5_master\\hubconf.py\", line 78, in _create\n",
      "    raise Exception(s) from e\n",
      "Exception: [Errno 2] No such file or directory: 'best.pt'. Cache may be out of date, try `force_reload=True` or see https://github.com/ultralytics/yolov5/issues/36 for help.\n"
     ]
    },
    {
     "ename": "KeyboardInterrupt",
     "evalue": "",
     "output_type": "error",
     "traceback": [
      "\u001b[1;31m---------------------------------------------------------------------------\u001b[0m",
      "\u001b[1;31mKeyboardInterrupt\u001b[0m                         Traceback (most recent call last)",
      "\u001b[1;32m~\\AppData\\Local\\Temp\\ipykernel_16012\\3637420023.py\u001b[0m in \u001b[0;36m<module>\u001b[1;34m\u001b[0m\n\u001b[0;32m     16\u001b[0m     \u001b[0mbutton2\u001b[0m\u001b[1;33m.\u001b[0m\u001b[0mpack\u001b[0m\u001b[1;33m(\u001b[0m\u001b[0mside\u001b[0m\u001b[1;33m=\u001b[0m\u001b[0mRIGHT\u001b[0m\u001b[1;33m,\u001b[0m \u001b[0mpadx\u001b[0m\u001b[1;33m=\u001b[0m\u001b[1;36m35\u001b[0m\u001b[1;33m)\u001b[0m\u001b[1;33m\u001b[0m\u001b[1;33m\u001b[0m\u001b[0m\n\u001b[0;32m     17\u001b[0m \u001b[1;33m\u001b[0m\u001b[0m\n\u001b[1;32m---> 18\u001b[1;33m     \u001b[0mroot\u001b[0m\u001b[1;33m.\u001b[0m\u001b[0mmainloop\u001b[0m\u001b[1;33m(\u001b[0m\u001b[1;33m)\u001b[0m\u001b[1;33m\u001b[0m\u001b[1;33m\u001b[0m\u001b[0m\n\u001b[0m",
      "\u001b[1;32m~\\anaconda3\\lib\\tkinter\\__init__.py\u001b[0m in \u001b[0;36mmainloop\u001b[1;34m(self, n)\u001b[0m\n\u001b[0;32m   1427\u001b[0m     \u001b[1;32mdef\u001b[0m \u001b[0mmainloop\u001b[0m\u001b[1;33m(\u001b[0m\u001b[0mself\u001b[0m\u001b[1;33m,\u001b[0m \u001b[0mn\u001b[0m\u001b[1;33m=\u001b[0m\u001b[1;36m0\u001b[0m\u001b[1;33m)\u001b[0m\u001b[1;33m:\u001b[0m\u001b[1;33m\u001b[0m\u001b[1;33m\u001b[0m\u001b[0m\n\u001b[0;32m   1428\u001b[0m         \u001b[1;34m\"\"\"Call the mainloop of Tk.\"\"\"\u001b[0m\u001b[1;33m\u001b[0m\u001b[1;33m\u001b[0m\u001b[0m\n\u001b[1;32m-> 1429\u001b[1;33m         \u001b[0mself\u001b[0m\u001b[1;33m.\u001b[0m\u001b[0mtk\u001b[0m\u001b[1;33m.\u001b[0m\u001b[0mmainloop\u001b[0m\u001b[1;33m(\u001b[0m\u001b[0mn\u001b[0m\u001b[1;33m)\u001b[0m\u001b[1;33m\u001b[0m\u001b[1;33m\u001b[0m\u001b[0m\n\u001b[0m\u001b[0;32m   1430\u001b[0m \u001b[1;33m\u001b[0m\u001b[0m\n\u001b[0;32m   1431\u001b[0m     \u001b[1;32mdef\u001b[0m \u001b[0mquit\u001b[0m\u001b[1;33m(\u001b[0m\u001b[0mself\u001b[0m\u001b[1;33m)\u001b[0m\u001b[1;33m:\u001b[0m\u001b[1;33m\u001b[0m\u001b[1;33m\u001b[0m\u001b[0m\n",
      "\u001b[1;31mKeyboardInterrupt\u001b[0m: "
     ]
    }
   ],
   "source": [
    "if __name__ == '__main__':\n",
    "\n",
    "    root = tk.Tk()\n",
    "    root.geometry(\"400x200\")\n",
    "\n",
    "\n",
    "    var = tk.StringVar()\n",
    "    label = tk.Label(root, textvariable=var, font=(\"Arial\", 25), pady=50, padx=50)\n",
    "\n",
    "    var.set(\"Cow Detection\")\n",
    "    label.pack(side=TOP)\n",
    "\n",
    "    button = tk.Button(root, text='Upload Video', command=upload_action, font=(\"Arial\", 14))\n",
    "    button.pack(side=LEFT, padx=35)\n",
    "    button2 = tk.Button(root, text='Open Camera', command=camera_action, font=(\"Arial\", 14))\n",
    "    button2.pack(side=RIGHT, padx=35)\n",
    "\n",
    "    root.mainloop()"
   ]
  },
  {
   "cell_type": "code",
   "execution_count": null,
   "id": "ac124010",
   "metadata": {},
   "outputs": [],
   "source": []
  }
 ],
 "metadata": {
  "kernelspec": {
   "display_name": "Python 3 (ipykernel)",
   "language": "python",
   "name": "python3"
  },
  "language_info": {
   "codemirror_mode": {
    "name": "ipython",
    "version": 3
   },
   "file_extension": ".py",
   "mimetype": "text/x-python",
   "name": "python",
   "nbconvert_exporter": "python",
   "pygments_lexer": "ipython3",
   "version": "3.9.13"
  }
 },
 "nbformat": 4,
 "nbformat_minor": 5
}
