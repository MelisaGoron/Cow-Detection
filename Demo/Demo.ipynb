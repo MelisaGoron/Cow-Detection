{
 "cells": [
  {
   "cell_type": "code",
   "execution_count": 1,
   "id": "7d6aabe2",
   "metadata": {},
   "outputs": [],
   "source": [
    "import tkinter as tk\n",
    "from tkinter import filedialog, RAISED, W, CENTER, NSEW, E, LEFT, TOP, RIGHT\n",
    "import torch\n",
    "import cv2\n",
    "import numpy as np"
   ]
  },
  {
   "cell_type": "code",
   "execution_count": 2,
   "id": "c3ef75f0",
   "metadata": {},
   "outputs": [],
   "source": [
    "def run_model(filepath, camera):\n",
    "    model = torch.hub.load('ultralytics/yolov5', 'custom', path='best.pt', force_reload=True)\n",
    "    if not camera:\n",
    "        cap = cv2.VideoCapture(filepath)\n",
    "    else:\n",
    "        cap = cv2.VideoCapture(0)\n",
    "    while cap.isOpened():\n",
    "        ret, frame = cap.read()\n",
    "\n",
    "        # Make detections\n",
    "        results = model(frame)\n",
    "\n",
    "        cv2.imshow('YOLO', np.squeeze(results.render()))\n",
    "\n",
    "        if cv2.waitKey(10) & 0xFF == ord('q'):\n",
    "            break\n",
    "    cap.release()\n",
    "    cv2.destroyAllWindows()"
   ]
  },
  {
   "cell_type": "code",
   "execution_count": 3,
   "id": "5869ed27",
   "metadata": {},
   "outputs": [],
   "source": [
    "def upload_action(event=None):\n",
    "    filename = filedialog.askopenfilename(filetypes=[('Video Files', '*mp4')])\n",
    "    run_model(filename, False)"
   ]
  },
  {
   "cell_type": "code",
   "execution_count": 4,
   "id": "ef867128",
   "metadata": {},
   "outputs": [],
   "source": [
    "def camera_action():\n",
    "    run_model(\"\", True)"
   ]
  },
  {
   "cell_type": "code",
   "execution_count": 8,
   "id": "598d8315",
   "metadata": {},
   "outputs": [
    {
     "name": "stderr",
     "output_type": "stream",
     "text": [
      "Downloading: \"https://github.com/ultralytics/yolov5/zipball/master\" to C:\\Users\\goron/.cache\\torch\\hub\\master.zip\n",
      "YOLOv5  2023-2-22 Python-3.9.13 torch-1.13.0+cpu CPU\n",
      "\n",
      "Fusing layers... \n",
      "Model summary: 157 layers, 7053277 parameters, 0 gradients\n",
      "Adding AutoShape... \n"
     ]
    }
   ],
   "source": [
    "if __name__ == '__main__':\n",
    "\n",
    "    root = tk.Tk()\n",
    "    root.geometry(\"400x200\")\n",
    "\n",
    "\n",
    "    var = tk.StringVar()\n",
    "    label = tk.Label(root, textvariable=var, font=(\"Arial\", 25), pady=50, padx=50)\n",
    "\n",
    "    var.set(\"Cow Detection\")\n",
    "    label.pack(side=TOP)\n",
    "\n",
    "    button = tk.Button(root, text='Upload Video', command=upload_action, font=(\"Arial\", 14))\n",
    "    button.pack(side=LEFT, padx=35)\n",
    "    button2 = tk.Button(root, text='Open Camera', command=camera_action, font=(\"Arial\", 14))\n",
    "    button2.pack(side=RIGHT, padx=35)\n",
    "\n",
    "    root.mainloop()\n",
    "    \n",
    "    if cv2.waitKey(1) == ord('q'):\n",
    "        cap.release()        \n",
    "        cv2.destroyAllWindows()"
   ]
  },
  {
   "cell_type": "code",
   "execution_count": null,
   "id": "ac124010",
   "metadata": {},
   "outputs": [],
   "source": []
  }
 ],
 "metadata": {
  "kernelspec": {
   "display_name": "Python 3 (ipykernel)",
   "language": "python",
   "name": "python3"
  },
  "language_info": {
   "codemirror_mode": {
    "name": "ipython",
    "version": 3
   },
   "file_extension": ".py",
   "mimetype": "text/x-python",
   "name": "python",
   "nbconvert_exporter": "python",
   "pygments_lexer": "ipython3",
   "version": "3.9.13"
  }
 },
 "nbformat": 4,
 "nbformat_minor": 5
}
